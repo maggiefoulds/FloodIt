{
  "cells": [
    {
      "cell_type": "markdown",
      "metadata": {
        "id": "XRH1DPDttbho"
      },
      "source": [
        "# Machine Learning Lab 02\n",
        "\n",
        "For this lab, you can find sections for NumPy, Pandas, Matplotlib, Exploratory Data Analysis, and the optional Analysis of Anscombe's Quartet.\n",
        "\n",
        "Please add new cells for your code to expand this notebook (**File** --> **Insert**)"
      ]
    },
    {
      "cell_type": "markdown",
      "metadata": {
        "id": "ZQKkOrH9tbhs"
      },
      "source": [
        "## NumPy"
      ]
    },
    {
      "cell_type": "code",
      "execution_count": 25,
      "metadata": {
        "id": "gGxOrGoEtbht",
        "outputId": "a6de3252-3493-4f73-cf5f-6c409256c0e5",
        "colab": {
          "base_uri": "https://localhost:8080/"
        }
      },
      "outputs": [
        {
          "output_type": "stream",
          "name": "stdout",
          "text": [
            "an_array =  [0. 1. 2. 3. 4. 3. 2. 1. 0. 3.]\n",
            "The shape of c is:  (2, 4)\n",
            "3rd value of another_array (at index 2):  2\n",
            "Value of c at (0,2) =  3\n",
            "1st row of c =  [1 3 3 7]\n",
            "2nd column of c =  [3 2]\n",
            "2nd column up to 5th row of c =  [3 2]\n",
            "Iterating through the elements in each index in another_array\n",
            "0\n",
            "1\n",
            "2\n",
            "3\n",
            "4\n",
            "3\n",
            "2\n",
            "1\n",
            "0\n",
            "3\n",
            "Iterating through each value in another_array\n",
            "0\n",
            "1\n",
            "2\n",
            "3\n",
            "4\n",
            "3\n",
            "2\n",
            "1\n",
            "0\n",
            "3\n",
            "Iterating through the rows in c\n",
            "[1 3 3 7]\n",
            "[4 2 4 2]\n",
            "Iterating over each element in c, row by row\n",
            "13374242Iterating over each element in c, using flatten function\n",
            "13374242v =  [0 1 2 3]\n",
            "v + 5 =  [5 6 7 8]\n",
            "v - 5 =  [-5 -4 -3 -2]\n",
            "v * 2 =  [0 2 4 6]\n",
            "v / 2 =  [0.  0.5 1.  1.5]\n"
          ]
        }
      ],
      "source": [
        "import numpy as np\n",
        "\n",
        "an_array = np.array([])\n",
        "\n",
        "another_array = np.array([0,1,2,3,4,3,2,1,0,3])\n",
        "\n",
        "an_array = np.append(an_array, another_array)\n",
        "\n",
        "print(\"an_array = \", an_array)\n",
        "\n",
        "\n",
        "c = np.array([(1,3,3,7), (4,2,4,2)])\n",
        "\n",
        "print(\"The shape of c is: \", c.shape)\n",
        "\n",
        "\n",
        "print(\"3rd value of another_array (at index 2): \", another_array[2])\n",
        "\n",
        "\n",
        "print(\"Value of c at (0,2) = \", c[0][2])\n",
        "\n",
        "\n",
        "print(\"1st row of c = \", c[0])\n",
        "\n",
        "\n",
        "print(\"2nd column of c = \", c[:,1])\n",
        "\n",
        "\n",
        "print(\"2nd column up to 5th row of c = \", c[:5, 1])\n",
        "\n",
        "print(\"Iterating through the elements in each index in another_array\")\n",
        "for i in range(another_array.size):\n",
        "  print(another_array[i])\n",
        "\n",
        "print(\"Iterating through each value in another_array\")\n",
        "for value in another_array:\n",
        "  print(value)\n",
        "\n",
        "print(\"Iterating through the rows in c\")\n",
        "for row in c:\n",
        "  print(row)\n",
        "\n",
        "print(\"Iterating over each element in c, row by row\")\n",
        "for row in c:\n",
        "  for cell in row:\n",
        "    print(cell, end='')\n",
        "\n",
        "print(\"Iterating over each element in c, using flatten function\")\n",
        "for cell in c.flatten():\n",
        "  print(cell, end='')\n",
        "\n",
        "# creates a vector of numbers 1-19\n",
        "a = np.arange(20)\n",
        "\n",
        "# creates a 2x2 matrix of zeros\n",
        "b = np.zeros((2,2))\n",
        "\n",
        "# creates a 4x4 matrix of ones\n",
        "c = np.ones((4,4))\n",
        "\n",
        "# creates a 3x3 matrix of NaN\n",
        "d = np.full((3,3), np.nan)\n",
        "\n",
        "# creates a 5x5 identity matrix\n",
        "e = np.eye(5)\n",
        "\n",
        "# creates a 2x2 array with random numbers in the range [0,1]\n",
        "f = np.random.random((2,2))\n",
        "\n",
        "v = np.arange(4)\n",
        "print(\"v = \", v)\n",
        "print(\"v + 5 = \", v + 5)\n",
        "print(\"v - 5 = \", v - 5)\n",
        "print(\"v * 2 = \", v * 2)\n",
        "print(\"v / 2 = \", v / 2)"
      ]
    },
    {
      "cell_type": "markdown",
      "source": [
        "# Calculating Descriptive Statistics"
      ],
      "metadata": {
        "id": "UTj4KDbF4MSd"
      }
    },
    {
      "cell_type": "code",
      "source": [
        "# calculating the min (smallest value)\n",
        "min1 = another_array.min()\n",
        "min2 = np.min(another_array)\n",
        "print(\"Min using method 1 =\", min1, \"Min usin method 2 =\" , min2)\n",
        "\n",
        "# calculating the max (largest value)\n",
        "max1 = another_array.max()\n",
        "max2 = np.max(another_array)\n",
        "print(\"Max using method 1 =\", max1, \"Max using method 2 =\", max2)\n",
        "\n",
        "# calculating the mean\n",
        "print(\"Mean of array =\", np.mean(another_array))\n",
        "\n",
        "# calculating the median\n",
        "print(\"Median of the array =\", np.median(another_array))\n",
        "\n",
        "# calculating the mode\n",
        "print(\"Mode of the array =\",)\n",
        "\n",
        "# calculating the variance\n",
        "print(\"Variance of the array =\", np.var(another_array))\n",
        "\n",
        "# calculating standard deviation\n",
        "print(\"Standard deviation of the array =\", np.std(another_array))"
      ],
      "metadata": {
        "id": "i50GNaXkzv0u",
        "outputId": "b7d1f069-1602-4d20-895b-ba3de1a9eee0",
        "colab": {
          "base_uri": "https://localhost:8080/"
        }
      },
      "execution_count": 36,
      "outputs": [
        {
          "output_type": "stream",
          "name": "stdout",
          "text": [
            "Min using method 1 = 0 Min usin method 2 = 0\n",
            "Max using method 1 = 4 Max using method 2 = 4\n",
            "Mean of array = 1.9\n",
            "Median of the array = 2.0\n",
            "Mode of the array =\n",
            "Variance of the array = 1.69\n",
            "Standard deviation of the array = 1.3\n"
          ]
        }
      ]
    },
    {
      "cell_type": "markdown",
      "metadata": {
        "id": "CB9k3qzUtbhu"
      },
      "source": [
        "## SciPy"
      ]
    },
    {
      "cell_type": "code",
      "execution_count": 39,
      "metadata": {
        "id": "wCOkoKwttbhv",
        "outputId": "b4a93c93-28d1-446f-d817-eb13af9bf008",
        "colab": {
          "base_uri": "https://localhost:8080/"
        }
      },
      "outputs": [
        {
          "output_type": "stream",
          "name": "stdout",
          "text": [
            "shape of array = (10,)\n",
            "size of array = 10\n",
            "min of array = 0\n",
            "max of array = 4\n",
            "mean of array = 1.9\n",
            "median of array = 2.0\n",
            "mode of array = 3\n"
          ]
        }
      ],
      "source": [
        "from scipy import stats\n",
        "\n",
        "# shape of array\n",
        "print(\"shape of array =\", another_array.shape)\n",
        "\n",
        "# size of array\n",
        "print(\"size of array =\", another_array.size)\n",
        "\n",
        "# min of array\n",
        "print('min of array =', another_array.min())\n",
        "\n",
        "# max of array\n",
        "print('max of array =', another_array.max())\n",
        "\n",
        "# mean of array\n",
        "print('mean of array =', another_array.mean())\n",
        "\n",
        "# median of array\n",
        "print('median of array =', np.median(another_array))\n",
        "\n",
        "# mode of array\n",
        "print('mode of array =', stats.mode(another_array)[0])\n",
        "\n"
      ]
    },
    {
      "cell_type": "markdown",
      "metadata": {
        "id": "pHG4YSwttbhv"
      },
      "source": [
        "## Pandas"
      ]
    },
    {
      "cell_type": "code",
      "execution_count": 43,
      "metadata": {
        "id": "pmSPIwLDtbhw",
        "outputId": "ff37ad0c-af34-4166-cba8-8aa4564d9ff5",
        "colab": {
          "base_uri": "https://localhost:8080/",
          "height": 175
        }
      },
      "outputs": [
        {
          "output_type": "execute_result",
          "data": {
            "text/plain": [
              "   apples  oranges\n",
              "0       3        0\n",
              "1       2        3\n",
              "2       0        7\n",
              "3       1        2"
            ],
            "text/html": [
              "\n",
              "  <div id=\"df-9171aa18-7706-4795-be1a-ee9346ab81c0\" class=\"colab-df-container\">\n",
              "    <div>\n",
              "<style scoped>\n",
              "    .dataframe tbody tr th:only-of-type {\n",
              "        vertical-align: middle;\n",
              "    }\n",
              "\n",
              "    .dataframe tbody tr th {\n",
              "        vertical-align: top;\n",
              "    }\n",
              "\n",
              "    .dataframe thead th {\n",
              "        text-align: right;\n",
              "    }\n",
              "</style>\n",
              "<table border=\"1\" class=\"dataframe\">\n",
              "  <thead>\n",
              "    <tr style=\"text-align: right;\">\n",
              "      <th></th>\n",
              "      <th>apples</th>\n",
              "      <th>oranges</th>\n",
              "    </tr>\n",
              "  </thead>\n",
              "  <tbody>\n",
              "    <tr>\n",
              "      <th>0</th>\n",
              "      <td>3</td>\n",
              "      <td>0</td>\n",
              "    </tr>\n",
              "    <tr>\n",
              "      <th>1</th>\n",
              "      <td>2</td>\n",
              "      <td>3</td>\n",
              "    </tr>\n",
              "    <tr>\n",
              "      <th>2</th>\n",
              "      <td>0</td>\n",
              "      <td>7</td>\n",
              "    </tr>\n",
              "    <tr>\n",
              "      <th>3</th>\n",
              "      <td>1</td>\n",
              "      <td>2</td>\n",
              "    </tr>\n",
              "  </tbody>\n",
              "</table>\n",
              "</div>\n",
              "    <div class=\"colab-df-buttons\">\n",
              "\n",
              "  <div class=\"colab-df-container\">\n",
              "    <button class=\"colab-df-convert\" onclick=\"convertToInteractive('df-9171aa18-7706-4795-be1a-ee9346ab81c0')\"\n",
              "            title=\"Convert this dataframe to an interactive table.\"\n",
              "            style=\"display:none;\">\n",
              "\n",
              "  <svg xmlns=\"http://www.w3.org/2000/svg\" height=\"24px\" viewBox=\"0 -960 960 960\">\n",
              "    <path d=\"M120-120v-720h720v720H120Zm60-500h600v-160H180v160Zm220 220h160v-160H400v160Zm0 220h160v-160H400v160ZM180-400h160v-160H180v160Zm440 0h160v-160H620v160ZM180-180h160v-160H180v160Zm440 0h160v-160H620v160Z\"/>\n",
              "  </svg>\n",
              "    </button>\n",
              "\n",
              "  <style>\n",
              "    .colab-df-container {\n",
              "      display:flex;\n",
              "      gap: 12px;\n",
              "    }\n",
              "\n",
              "    .colab-df-convert {\n",
              "      background-color: #E8F0FE;\n",
              "      border: none;\n",
              "      border-radius: 50%;\n",
              "      cursor: pointer;\n",
              "      display: none;\n",
              "      fill: #1967D2;\n",
              "      height: 32px;\n",
              "      padding: 0 0 0 0;\n",
              "      width: 32px;\n",
              "    }\n",
              "\n",
              "    .colab-df-convert:hover {\n",
              "      background-color: #E2EBFA;\n",
              "      box-shadow: 0px 1px 2px rgba(60, 64, 67, 0.3), 0px 1px 3px 1px rgba(60, 64, 67, 0.15);\n",
              "      fill: #174EA6;\n",
              "    }\n",
              "\n",
              "    .colab-df-buttons div {\n",
              "      margin-bottom: 4px;\n",
              "    }\n",
              "\n",
              "    [theme=dark] .colab-df-convert {\n",
              "      background-color: #3B4455;\n",
              "      fill: #D2E3FC;\n",
              "    }\n",
              "\n",
              "    [theme=dark] .colab-df-convert:hover {\n",
              "      background-color: #434B5C;\n",
              "      box-shadow: 0px 1px 3px 1px rgba(0, 0, 0, 0.15);\n",
              "      filter: drop-shadow(0px 1px 2px rgba(0, 0, 0, 0.3));\n",
              "      fill: #FFFFFF;\n",
              "    }\n",
              "  </style>\n",
              "\n",
              "    <script>\n",
              "      const buttonEl =\n",
              "        document.querySelector('#df-9171aa18-7706-4795-be1a-ee9346ab81c0 button.colab-df-convert');\n",
              "      buttonEl.style.display =\n",
              "        google.colab.kernel.accessAllowed ? 'block' : 'none';\n",
              "\n",
              "      async function convertToInteractive(key) {\n",
              "        const element = document.querySelector('#df-9171aa18-7706-4795-be1a-ee9346ab81c0');\n",
              "        const dataTable =\n",
              "          await google.colab.kernel.invokeFunction('convertToInteractive',\n",
              "                                                    [key], {});\n",
              "        if (!dataTable) return;\n",
              "\n",
              "        const docLinkHtml = 'Like what you see? Visit the ' +\n",
              "          '<a target=\"_blank\" href=https://colab.research.google.com/notebooks/data_table.ipynb>data table notebook</a>'\n",
              "          + ' to learn more about interactive tables.';\n",
              "        element.innerHTML = '';\n",
              "        dataTable['output_type'] = 'display_data';\n",
              "        await google.colab.output.renderOutput(dataTable, element);\n",
              "        const docLink = document.createElement('div');\n",
              "        docLink.innerHTML = docLinkHtml;\n",
              "        element.appendChild(docLink);\n",
              "      }\n",
              "    </script>\n",
              "  </div>\n",
              "\n",
              "\n",
              "<div id=\"df-82304045-9a15-4409-81ca-b7d7cacdbbe0\">\n",
              "  <button class=\"colab-df-quickchart\" onclick=\"quickchart('df-82304045-9a15-4409-81ca-b7d7cacdbbe0')\"\n",
              "            title=\"Suggest charts.\"\n",
              "            style=\"display:none;\">\n",
              "\n",
              "<svg xmlns=\"http://www.w3.org/2000/svg\" height=\"24px\"viewBox=\"0 0 24 24\"\n",
              "     width=\"24px\">\n",
              "    <g>\n",
              "        <path d=\"M19 3H5c-1.1 0-2 .9-2 2v14c0 1.1.9 2 2 2h14c1.1 0 2-.9 2-2V5c0-1.1-.9-2-2-2zM9 17H7v-7h2v7zm4 0h-2V7h2v10zm4 0h-2v-4h2v4z\"/>\n",
              "    </g>\n",
              "</svg>\n",
              "  </button>\n",
              "\n",
              "<style>\n",
              "  .colab-df-quickchart {\n",
              "      --bg-color: #E8F0FE;\n",
              "      --fill-color: #1967D2;\n",
              "      --hover-bg-color: #E2EBFA;\n",
              "      --hover-fill-color: #174EA6;\n",
              "      --disabled-fill-color: #AAA;\n",
              "      --disabled-bg-color: #DDD;\n",
              "  }\n",
              "\n",
              "  [theme=dark] .colab-df-quickchart {\n",
              "      --bg-color: #3B4455;\n",
              "      --fill-color: #D2E3FC;\n",
              "      --hover-bg-color: #434B5C;\n",
              "      --hover-fill-color: #FFFFFF;\n",
              "      --disabled-bg-color: #3B4455;\n",
              "      --disabled-fill-color: #666;\n",
              "  }\n",
              "\n",
              "  .colab-df-quickchart {\n",
              "    background-color: var(--bg-color);\n",
              "    border: none;\n",
              "    border-radius: 50%;\n",
              "    cursor: pointer;\n",
              "    display: none;\n",
              "    fill: var(--fill-color);\n",
              "    height: 32px;\n",
              "    padding: 0;\n",
              "    width: 32px;\n",
              "  }\n",
              "\n",
              "  .colab-df-quickchart:hover {\n",
              "    background-color: var(--hover-bg-color);\n",
              "    box-shadow: 0 1px 2px rgba(60, 64, 67, 0.3), 0 1px 3px 1px rgba(60, 64, 67, 0.15);\n",
              "    fill: var(--button-hover-fill-color);\n",
              "  }\n",
              "\n",
              "  .colab-df-quickchart-complete:disabled,\n",
              "  .colab-df-quickchart-complete:disabled:hover {\n",
              "    background-color: var(--disabled-bg-color);\n",
              "    fill: var(--disabled-fill-color);\n",
              "    box-shadow: none;\n",
              "  }\n",
              "\n",
              "  .colab-df-spinner {\n",
              "    border: 2px solid var(--fill-color);\n",
              "    border-color: transparent;\n",
              "    border-bottom-color: var(--fill-color);\n",
              "    animation:\n",
              "      spin 1s steps(1) infinite;\n",
              "  }\n",
              "\n",
              "  @keyframes spin {\n",
              "    0% {\n",
              "      border-color: transparent;\n",
              "      border-bottom-color: var(--fill-color);\n",
              "      border-left-color: var(--fill-color);\n",
              "    }\n",
              "    20% {\n",
              "      border-color: transparent;\n",
              "      border-left-color: var(--fill-color);\n",
              "      border-top-color: var(--fill-color);\n",
              "    }\n",
              "    30% {\n",
              "      border-color: transparent;\n",
              "      border-left-color: var(--fill-color);\n",
              "      border-top-color: var(--fill-color);\n",
              "      border-right-color: var(--fill-color);\n",
              "    }\n",
              "    40% {\n",
              "      border-color: transparent;\n",
              "      border-right-color: var(--fill-color);\n",
              "      border-top-color: var(--fill-color);\n",
              "    }\n",
              "    60% {\n",
              "      border-color: transparent;\n",
              "      border-right-color: var(--fill-color);\n",
              "    }\n",
              "    80% {\n",
              "      border-color: transparent;\n",
              "      border-right-color: var(--fill-color);\n",
              "      border-bottom-color: var(--fill-color);\n",
              "    }\n",
              "    90% {\n",
              "      border-color: transparent;\n",
              "      border-bottom-color: var(--fill-color);\n",
              "    }\n",
              "  }\n",
              "</style>\n",
              "\n",
              "  <script>\n",
              "    async function quickchart(key) {\n",
              "      const quickchartButtonEl =\n",
              "        document.querySelector('#' + key + ' button');\n",
              "      quickchartButtonEl.disabled = true;  // To prevent multiple clicks.\n",
              "      quickchartButtonEl.classList.add('colab-df-spinner');\n",
              "      try {\n",
              "        const charts = await google.colab.kernel.invokeFunction(\n",
              "            'suggestCharts', [key], {});\n",
              "      } catch (error) {\n",
              "        console.error('Error during call to suggestCharts:', error);\n",
              "      }\n",
              "      quickchartButtonEl.classList.remove('colab-df-spinner');\n",
              "      quickchartButtonEl.classList.add('colab-df-quickchart-complete');\n",
              "    }\n",
              "    (() => {\n",
              "      let quickchartButtonEl =\n",
              "        document.querySelector('#df-82304045-9a15-4409-81ca-b7d7cacdbbe0 button');\n",
              "      quickchartButtonEl.style.display =\n",
              "        google.colab.kernel.accessAllowed ? 'block' : 'none';\n",
              "    })();\n",
              "  </script>\n",
              "</div>\n",
              "    </div>\n",
              "  </div>\n"
            ]
          },
          "metadata": {},
          "execution_count": 43
        }
      ],
      "source": [
        "import pandas as pd\n",
        "\n",
        "data = {\n",
        "    'apples' : [3,2,0,1],\n",
        "    'oranges' : [0,3,7,2]\n",
        "}\n",
        "\n",
        "purchases_dataframe = pd.DataFrame(data)\n",
        "purchases_dataframe"
      ]
    },
    {
      "cell_type": "code",
      "source": [
        "import pandas as pd\n",
        "\n",
        "dataset = pd.read_csv('data/ml-assessment-dataset.csv')\n",
        "dataset.head()"
      ],
      "metadata": {
        "id": "3zFRP6Jq_fhn",
        "outputId": "d88443c7-cc7c-4e25-f719-e544f365abd0",
        "colab": {
          "base_uri": "https://localhost:8080/",
          "height": 390
        }
      },
      "execution_count": 44,
      "outputs": [
        {
          "output_type": "error",
          "ename": "FileNotFoundError",
          "evalue": "ignored",
          "traceback": [
            "\u001b[0;31m---------------------------------------------------------------------------\u001b[0m",
            "\u001b[0;31mFileNotFoundError\u001b[0m                         Traceback (most recent call last)",
            "\u001b[0;32m<ipython-input-44-b593b18c1da8>\u001b[0m in \u001b[0;36m<cell line: 3>\u001b[0;34m()\u001b[0m\n\u001b[1;32m      1\u001b[0m \u001b[0;32mimport\u001b[0m \u001b[0mpandas\u001b[0m \u001b[0;32mas\u001b[0m \u001b[0mpd\u001b[0m\u001b[0;34m\u001b[0m\u001b[0;34m\u001b[0m\u001b[0m\n\u001b[1;32m      2\u001b[0m \u001b[0;34m\u001b[0m\u001b[0m\n\u001b[0;32m----> 3\u001b[0;31m \u001b[0mdataset\u001b[0m \u001b[0;34m=\u001b[0m \u001b[0mpd\u001b[0m\u001b[0;34m.\u001b[0m\u001b[0mread_csv\u001b[0m\u001b[0;34m(\u001b[0m\u001b[0;34m'data/ml-assessment-dataset.csv'\u001b[0m\u001b[0;34m)\u001b[0m\u001b[0;34m\u001b[0m\u001b[0;34m\u001b[0m\u001b[0m\n\u001b[0m\u001b[1;32m      4\u001b[0m \u001b[0mdataset\u001b[0m\u001b[0;34m.\u001b[0m\u001b[0mhead\u001b[0m\u001b[0;34m(\u001b[0m\u001b[0;34m)\u001b[0m\u001b[0;34m\u001b[0m\u001b[0;34m\u001b[0m\u001b[0m\n",
            "\u001b[0;32m/usr/local/lib/python3.10/dist-packages/pandas/util/_decorators.py\u001b[0m in \u001b[0;36mwrapper\u001b[0;34m(*args, **kwargs)\u001b[0m\n\u001b[1;32m    209\u001b[0m                 \u001b[0;32melse\u001b[0m\u001b[0;34m:\u001b[0m\u001b[0;34m\u001b[0m\u001b[0;34m\u001b[0m\u001b[0m\n\u001b[1;32m    210\u001b[0m                     \u001b[0mkwargs\u001b[0m\u001b[0;34m[\u001b[0m\u001b[0mnew_arg_name\u001b[0m\u001b[0;34m]\u001b[0m \u001b[0;34m=\u001b[0m \u001b[0mnew_arg_value\u001b[0m\u001b[0;34m\u001b[0m\u001b[0;34m\u001b[0m\u001b[0m\n\u001b[0;32m--> 211\u001b[0;31m             \u001b[0;32mreturn\u001b[0m \u001b[0mfunc\u001b[0m\u001b[0;34m(\u001b[0m\u001b[0;34m*\u001b[0m\u001b[0margs\u001b[0m\u001b[0;34m,\u001b[0m \u001b[0;34m**\u001b[0m\u001b[0mkwargs\u001b[0m\u001b[0;34m)\u001b[0m\u001b[0;34m\u001b[0m\u001b[0;34m\u001b[0m\u001b[0m\n\u001b[0m\u001b[1;32m    212\u001b[0m \u001b[0;34m\u001b[0m\u001b[0m\n\u001b[1;32m    213\u001b[0m         \u001b[0;32mreturn\u001b[0m \u001b[0mcast\u001b[0m\u001b[0;34m(\u001b[0m\u001b[0mF\u001b[0m\u001b[0;34m,\u001b[0m \u001b[0mwrapper\u001b[0m\u001b[0;34m)\u001b[0m\u001b[0;34m\u001b[0m\u001b[0;34m\u001b[0m\u001b[0m\n",
            "\u001b[0;32m/usr/local/lib/python3.10/dist-packages/pandas/util/_decorators.py\u001b[0m in \u001b[0;36mwrapper\u001b[0;34m(*args, **kwargs)\u001b[0m\n\u001b[1;32m    329\u001b[0m                     \u001b[0mstacklevel\u001b[0m\u001b[0;34m=\u001b[0m\u001b[0mfind_stack_level\u001b[0m\u001b[0;34m(\u001b[0m\u001b[0;34m)\u001b[0m\u001b[0;34m,\u001b[0m\u001b[0;34m\u001b[0m\u001b[0;34m\u001b[0m\u001b[0m\n\u001b[1;32m    330\u001b[0m                 )\n\u001b[0;32m--> 331\u001b[0;31m             \u001b[0;32mreturn\u001b[0m \u001b[0mfunc\u001b[0m\u001b[0;34m(\u001b[0m\u001b[0;34m*\u001b[0m\u001b[0margs\u001b[0m\u001b[0;34m,\u001b[0m \u001b[0;34m**\u001b[0m\u001b[0mkwargs\u001b[0m\u001b[0;34m)\u001b[0m\u001b[0;34m\u001b[0m\u001b[0;34m\u001b[0m\u001b[0m\n\u001b[0m\u001b[1;32m    332\u001b[0m \u001b[0;34m\u001b[0m\u001b[0m\n\u001b[1;32m    333\u001b[0m         \u001b[0;31m# error: \"Callable[[VarArg(Any), KwArg(Any)], Any]\" has no\u001b[0m\u001b[0;34m\u001b[0m\u001b[0;34m\u001b[0m\u001b[0m\n",
            "\u001b[0;32m/usr/local/lib/python3.10/dist-packages/pandas/io/parsers/readers.py\u001b[0m in \u001b[0;36mread_csv\u001b[0;34m(filepath_or_buffer, sep, delimiter, header, names, index_col, usecols, squeeze, prefix, mangle_dupe_cols, dtype, engine, converters, true_values, false_values, skipinitialspace, skiprows, skipfooter, nrows, na_values, keep_default_na, na_filter, verbose, skip_blank_lines, parse_dates, infer_datetime_format, keep_date_col, date_parser, dayfirst, cache_dates, iterator, chunksize, compression, thousands, decimal, lineterminator, quotechar, quoting, doublequote, escapechar, comment, encoding, encoding_errors, dialect, error_bad_lines, warn_bad_lines, on_bad_lines, delim_whitespace, low_memory, memory_map, float_precision, storage_options)\u001b[0m\n\u001b[1;32m    948\u001b[0m     \u001b[0mkwds\u001b[0m\u001b[0;34m.\u001b[0m\u001b[0mupdate\u001b[0m\u001b[0;34m(\u001b[0m\u001b[0mkwds_defaults\u001b[0m\u001b[0;34m)\u001b[0m\u001b[0;34m\u001b[0m\u001b[0;34m\u001b[0m\u001b[0m\n\u001b[1;32m    949\u001b[0m \u001b[0;34m\u001b[0m\u001b[0m\n\u001b[0;32m--> 950\u001b[0;31m     \u001b[0;32mreturn\u001b[0m \u001b[0m_read\u001b[0m\u001b[0;34m(\u001b[0m\u001b[0mfilepath_or_buffer\u001b[0m\u001b[0;34m,\u001b[0m \u001b[0mkwds\u001b[0m\u001b[0;34m)\u001b[0m\u001b[0;34m\u001b[0m\u001b[0;34m\u001b[0m\u001b[0m\n\u001b[0m\u001b[1;32m    951\u001b[0m \u001b[0;34m\u001b[0m\u001b[0m\n\u001b[1;32m    952\u001b[0m \u001b[0;34m\u001b[0m\u001b[0m\n",
            "\u001b[0;32m/usr/local/lib/python3.10/dist-packages/pandas/io/parsers/readers.py\u001b[0m in \u001b[0;36m_read\u001b[0;34m(filepath_or_buffer, kwds)\u001b[0m\n\u001b[1;32m    603\u001b[0m \u001b[0;34m\u001b[0m\u001b[0m\n\u001b[1;32m    604\u001b[0m     \u001b[0;31m# Create the parser.\u001b[0m\u001b[0;34m\u001b[0m\u001b[0;34m\u001b[0m\u001b[0m\n\u001b[0;32m--> 605\u001b[0;31m     \u001b[0mparser\u001b[0m \u001b[0;34m=\u001b[0m \u001b[0mTextFileReader\u001b[0m\u001b[0;34m(\u001b[0m\u001b[0mfilepath_or_buffer\u001b[0m\u001b[0;34m,\u001b[0m \u001b[0;34m**\u001b[0m\u001b[0mkwds\u001b[0m\u001b[0;34m)\u001b[0m\u001b[0;34m\u001b[0m\u001b[0;34m\u001b[0m\u001b[0m\n\u001b[0m\u001b[1;32m    606\u001b[0m \u001b[0;34m\u001b[0m\u001b[0m\n\u001b[1;32m    607\u001b[0m     \u001b[0;32mif\u001b[0m \u001b[0mchunksize\u001b[0m \u001b[0;32mor\u001b[0m \u001b[0miterator\u001b[0m\u001b[0;34m:\u001b[0m\u001b[0;34m\u001b[0m\u001b[0;34m\u001b[0m\u001b[0m\n",
            "\u001b[0;32m/usr/local/lib/python3.10/dist-packages/pandas/io/parsers/readers.py\u001b[0m in \u001b[0;36m__init__\u001b[0;34m(self, f, engine, **kwds)\u001b[0m\n\u001b[1;32m   1440\u001b[0m \u001b[0;34m\u001b[0m\u001b[0m\n\u001b[1;32m   1441\u001b[0m         \u001b[0mself\u001b[0m\u001b[0;34m.\u001b[0m\u001b[0mhandles\u001b[0m\u001b[0;34m:\u001b[0m \u001b[0mIOHandles\u001b[0m \u001b[0;34m|\u001b[0m \u001b[0;32mNone\u001b[0m \u001b[0;34m=\u001b[0m \u001b[0;32mNone\u001b[0m\u001b[0;34m\u001b[0m\u001b[0;34m\u001b[0m\u001b[0m\n\u001b[0;32m-> 1442\u001b[0;31m         \u001b[0mself\u001b[0m\u001b[0;34m.\u001b[0m\u001b[0m_engine\u001b[0m \u001b[0;34m=\u001b[0m \u001b[0mself\u001b[0m\u001b[0;34m.\u001b[0m\u001b[0m_make_engine\u001b[0m\u001b[0;34m(\u001b[0m\u001b[0mf\u001b[0m\u001b[0;34m,\u001b[0m \u001b[0mself\u001b[0m\u001b[0;34m.\u001b[0m\u001b[0mengine\u001b[0m\u001b[0;34m)\u001b[0m\u001b[0;34m\u001b[0m\u001b[0;34m\u001b[0m\u001b[0m\n\u001b[0m\u001b[1;32m   1443\u001b[0m \u001b[0;34m\u001b[0m\u001b[0m\n\u001b[1;32m   1444\u001b[0m     \u001b[0;32mdef\u001b[0m \u001b[0mclose\u001b[0m\u001b[0;34m(\u001b[0m\u001b[0mself\u001b[0m\u001b[0;34m)\u001b[0m \u001b[0;34m->\u001b[0m \u001b[0;32mNone\u001b[0m\u001b[0;34m:\u001b[0m\u001b[0;34m\u001b[0m\u001b[0;34m\u001b[0m\u001b[0m\n",
            "\u001b[0;32m/usr/local/lib/python3.10/dist-packages/pandas/io/parsers/readers.py\u001b[0m in \u001b[0;36m_make_engine\u001b[0;34m(self, f, engine)\u001b[0m\n\u001b[1;32m   1733\u001b[0m                 \u001b[0;32mif\u001b[0m \u001b[0;34m\"b\"\u001b[0m \u001b[0;32mnot\u001b[0m \u001b[0;32min\u001b[0m \u001b[0mmode\u001b[0m\u001b[0;34m:\u001b[0m\u001b[0;34m\u001b[0m\u001b[0;34m\u001b[0m\u001b[0m\n\u001b[1;32m   1734\u001b[0m                     \u001b[0mmode\u001b[0m \u001b[0;34m+=\u001b[0m \u001b[0;34m\"b\"\u001b[0m\u001b[0;34m\u001b[0m\u001b[0;34m\u001b[0m\u001b[0m\n\u001b[0;32m-> 1735\u001b[0;31m             self.handles = get_handle(\n\u001b[0m\u001b[1;32m   1736\u001b[0m                 \u001b[0mf\u001b[0m\u001b[0;34m,\u001b[0m\u001b[0;34m\u001b[0m\u001b[0;34m\u001b[0m\u001b[0m\n\u001b[1;32m   1737\u001b[0m                 \u001b[0mmode\u001b[0m\u001b[0;34m,\u001b[0m\u001b[0;34m\u001b[0m\u001b[0;34m\u001b[0m\u001b[0m\n",
            "\u001b[0;32m/usr/local/lib/python3.10/dist-packages/pandas/io/common.py\u001b[0m in \u001b[0;36mget_handle\u001b[0;34m(path_or_buf, mode, encoding, compression, memory_map, is_text, errors, storage_options)\u001b[0m\n\u001b[1;32m    854\u001b[0m         \u001b[0;32mif\u001b[0m \u001b[0mioargs\u001b[0m\u001b[0;34m.\u001b[0m\u001b[0mencoding\u001b[0m \u001b[0;32mand\u001b[0m \u001b[0;34m\"b\"\u001b[0m \u001b[0;32mnot\u001b[0m \u001b[0;32min\u001b[0m \u001b[0mioargs\u001b[0m\u001b[0;34m.\u001b[0m\u001b[0mmode\u001b[0m\u001b[0;34m:\u001b[0m\u001b[0;34m\u001b[0m\u001b[0;34m\u001b[0m\u001b[0m\n\u001b[1;32m    855\u001b[0m             \u001b[0;31m# Encoding\u001b[0m\u001b[0;34m\u001b[0m\u001b[0;34m\u001b[0m\u001b[0m\n\u001b[0;32m--> 856\u001b[0;31m             handle = open(\n\u001b[0m\u001b[1;32m    857\u001b[0m                 \u001b[0mhandle\u001b[0m\u001b[0;34m,\u001b[0m\u001b[0;34m\u001b[0m\u001b[0;34m\u001b[0m\u001b[0m\n\u001b[1;32m    858\u001b[0m                 \u001b[0mioargs\u001b[0m\u001b[0;34m.\u001b[0m\u001b[0mmode\u001b[0m\u001b[0;34m,\u001b[0m\u001b[0;34m\u001b[0m\u001b[0;34m\u001b[0m\u001b[0m\n",
            "\u001b[0;31mFileNotFoundError\u001b[0m: [Errno 2] No such file or directory: 'data/ml-assessment-dataset.csv'"
          ]
        }
      ]
    },
    {
      "cell_type": "markdown",
      "metadata": {
        "id": "uiSBKvqZtbhw"
      },
      "source": [
        "## Matplotlib"
      ]
    },
    {
      "cell_type": "code",
      "execution_count": null,
      "metadata": {
        "id": "KsByPsNetbhw"
      },
      "outputs": [],
      "source": []
    },
    {
      "cell_type": "markdown",
      "metadata": {
        "id": "PwvbSvEytbhx"
      },
      "source": [
        "## Exploratory Data Analysis\n",
        "\n",
        "Some of the cells below already got code doing things for you.\n",
        "\n",
        "Some cells are empty for you to do _stuff_ in to **answer questions**!\n",
        "\n",
        "See lab task notes for the list of questions if you want to see them all in one place."
      ]
    },
    {
      "cell_type": "markdown",
      "metadata": {
        "id": "ARQ0eHvqtbhx"
      },
      "source": [
        "### Loading the dataset\n",
        "\n",
        "First, we load the dataset, then we can execute various functions to explore the data, calculate statistics and plot graphs."
      ]
    },
    {
      "cell_type": "code",
      "execution_count": null,
      "metadata": {
        "ExecuteTime": {
          "end_time": "2021-10-04T15:00:04.732125Z",
          "start_time": "2021-10-04T15:00:04.334215Z"
        },
        "id": "7htVCLnKtbhx"
      },
      "outputs": [],
      "source": [
        "import pandas as pd\n",
        "\n",
        "dataset = pd.read_csv('data/ml-assessment-dataset.csv')\n",
        "dataset.head()"
      ]
    },
    {
      "cell_type": "markdown",
      "metadata": {
        "id": "CIk76B1Rtbhy"
      },
      "source": [
        "### Exploring the dataset\n",
        "\n",
        "The overall aim for the data exploration here is to get a feel for some of the influences on the machine learning marks for past students.\n",
        "\n",
        "Let's focus on two features for this:\n",
        " * Class (1 = pass, 0 = fail)\n",
        " * Total mark (the total unit mark, range 0-100)\n",
        " * L4 mean mark (to mean mark across all 6 level 4 units)"
      ]
    },
    {
      "cell_type": "markdown",
      "metadata": {
        "id": "vwQhjxNxtbhz"
      },
      "source": [
        "#### General information\n",
        "\n",
        "Questions to answer:\n",
        "* How many instances are there in the dataset?\n",
        "* What is the mean mark (total), including non-submissions?"
      ]
    },
    {
      "cell_type": "code",
      "execution_count": null,
      "metadata": {
        "ExecuteTime": {
          "end_time": "2021-10-04T15:00:04.735467Z",
          "start_time": "2021-10-04T15:00:04.733846Z"
        },
        "id": "jPJO4aSytbhz"
      },
      "outputs": [],
      "source": [
        "# TODO: answer the two questions with the following functions\n",
        "# .info()\n",
        "# .describe()\n",
        "\n"
      ]
    },
    {
      "cell_type": "markdown",
      "metadata": {
        "id": "i5XRlQu6tbh0"
      },
      "source": [
        "#### Class (pass/fail) analysis\n",
        "\n",
        "Questions to answer:\n",
        "* Is the class balance equal?\n",
        "* Which class is the MOST represented in the dataset?\n",
        "* How many students passed?"
      ]
    },
    {
      "cell_type": "code",
      "execution_count": null,
      "metadata": {
        "ExecuteTime": {
          "end_time": "2021-10-04T15:00:04.739764Z",
          "start_time": "2021-10-04T15:00:04.737571Z"
        },
        "id": "pP1ot7Ivtbh0"
      },
      "outputs": [],
      "source": [
        "# TODO: NUMERIC OUTPUT FOR CLASS BALANCE (NUMBER OF VALUES/INSTANCES FOR EACH CLASS)\n"
      ]
    },
    {
      "cell_type": "code",
      "execution_count": null,
      "metadata": {
        "ExecuteTime": {
          "end_time": "2021-10-04T15:00:04.743469Z",
          "start_time": "2021-10-04T15:00:04.741988Z"
        },
        "id": "J0Y3ImqHtbh0"
      },
      "outputs": [],
      "source": [
        "# TODO: CHART FOR CLASS DISTRIBUTION\n"
      ]
    },
    {
      "cell_type": "markdown",
      "metadata": {
        "id": "MTiwTsDmtbh1"
      },
      "source": [
        "#### Mark analysis\n",
        "\n",
        "Questions to answer:\n",
        "\n",
        "* What is the mean mark (total), including non-submissions?\n",
        "* What is the mean mark (total), excluding non-submissions?\n",
        "* What is the mean level 4 mark for the students who passed?\n",
        "* What is the mean level 4 mark for the students who failed?"
      ]
    },
    {
      "cell_type": "code",
      "execution_count": null,
      "metadata": {
        "id": "2S2p1gvstbh1"
      },
      "outputs": [],
      "source": [
        "# To get the mean of a specific feature/column, you can use this format:\n",
        "#   dataset['COLUMN_NAME'].mean()\n",
        "\n"
      ]
    },
    {
      "cell_type": "code",
      "execution_count": null,
      "metadata": {
        "ExecuteTime": {
          "end_time": "2021-10-04T15:00:04.881199Z",
          "start_time": "2021-10-04T15:00:04.748755Z"
        },
        "id": "YE0bVcIRtbh1"
      },
      "outputs": [],
      "source": [
        "# Have a go at using one of these functions for the first 2 questions\n",
        "#\n",
        "#    dataset['COLUMN_NAME_FOR_THE_VALUES_YOU_WANT'][dataset['COLUMN_NAME_TO_FILTER_BY'] == FILTER_VALUE_YOU_WANT].mean()\n",
        "#    dataset.groupby('COLUMN_NAME_TO_GROUP_BY')['COLUMN_NAME_FOR_THE_VALUES_YOU_WANT'].mean()\n",
        "#\n",
        "# For example, the following would print out the mean age of ANYBODY (female and male) without heart diseas\n",
        "#\n",
        "#    print(dataset['Total mark'][dataset['Class'] == 0].mean())\n",
        "#    print(dataset.groupby('Class')['Total mark'].mean())\n",
        "#\n",
        "# In the examples above, you want to find out the mean ages for genders, not the class (for the first 2 questions)\n",
        "# Remember, column names are case sensitive\n",
        "\n",
        "# TODO: Mean mark for those submitted (excluding non-submissions)\n",
        "\n",
        "\n",
        "\n",
        "# TODO: Mean level 4 mark for those students who passed vs failed\n",
        "\n"
      ]
    },
    {
      "cell_type": "markdown",
      "metadata": {
        "id": "CAXezO8vtbh2"
      },
      "source": [
        "## Analysis of Anscombe's Quartet\n",
        "\n",
        "There are many ways you can play around with the data and have a look at it, e.g.,\n",
        "\n",
        "1. a hardcoded approach using numpy and matplotlib\n",
        "2. an approach using pandas and reading directly from Excel\n",
        "\n",
        "The example code below uses option 1 just to keep it simpler here."
      ]
    },
    {
      "cell_type": "code",
      "execution_count": null,
      "metadata": {
        "ExecuteTime": {
          "end_time": "2021-10-04T15:00:04.886337Z",
          "start_time": "2021-10-04T15:00:04.348Z"
        },
        "id": "ugKBw4G9tbh2"
      },
      "outputs": [],
      "source": [
        "import numpy as np\n",
        "from scipy import stats\n",
        "from numpy.polynomial.polynomial import polyfit\n",
        "import matplotlib.pyplot as plt\n",
        "\n",
        "# Anscombe's 1st dataset\n",
        "x1 = np.array([10, 8, 13, 9, 11, 14, 6, 4, 12, 7, 5])\n",
        "y1 = np.array([8.04, 6.95, 7.58, 8.81, 8.33, 9.96, 7.24, 4.26, 10.84, 4.82, 5.68])\n",
        "\n",
        "# Anscombe's 2nd dataset\n",
        "x2 = np.array([10, 8, 13, 9, 11, 14, 6, 4, 12, 7, 5])\n",
        "y2 = np.array([9.14, 8.14, 8.74, 8.77, 9.26, 8.1, 6.13, 3.1, 9.13, 7.26, 4.74])\n",
        "\n",
        "# TODO: Anscombe's 3rd dataset\n",
        "\n",
        "\n",
        "# TODO: Anscombe's 4th dataset\n",
        "\n"
      ]
    },
    {
      "cell_type": "markdown",
      "metadata": {
        "id": "YIRRQ7lYtbh3"
      },
      "source": [
        "### Print out the stats\n",
        "\n",
        "* mean\n",
        "* median\n",
        "* mode\n",
        "* variance\n",
        "* standard deviation"
      ]
    },
    {
      "cell_type": "code",
      "execution_count": null,
      "metadata": {
        "ExecuteTime": {
          "end_time": "2021-10-04T15:00:04.887267Z",
          "start_time": "2021-10-04T15:00:04.351Z"
        },
        "id": "sr_ZWdaWtbh3"
      },
      "outputs": [],
      "source": [
        "print(\"Anscombe stats\\n\")\n",
        "# TODO (using Numpy and SciPy)\n",
        "\n"
      ]
    },
    {
      "cell_type": "markdown",
      "metadata": {
        "id": "kNMTlBw4tbh3"
      },
      "source": [
        "### Plot regression lines\n",
        "\n",
        "This is more challenging, but you can use the following code as the basis for:\n",
        "\n",
        "* Calculate/create regression lines for the 3rd and 4th datasets (that you added above)\n",
        "* Change the subplot configuration to a 2 x 2 grid (currently 1 x 2)\n",
        "* Plot the 3rd and 4th datasets (as subplots with the 1st and 2nd datasets)\n",
        "\n",
        "**REFLECT** on the stats above and what you see in the images."
      ]
    },
    {
      "cell_type": "code",
      "execution_count": null,
      "metadata": {
        "ExecuteTime": {
          "end_time": "2021-10-04T15:00:04.888470Z",
          "start_time": "2021-10-04T15:00:04.353Z"
        },
        "id": "3YEF_pyZtbh3"
      },
      "outputs": [],
      "source": [
        "# Linear regression lines\n",
        "b1, m1 = polyfit(x1, y1, 1)\n",
        "b2, m2 = polyfit(x2, y2, 1)\n",
        "\n",
        "# Setting up figure with two sub-plots\n",
        "fig, axs = plt.subplots(1, 2, figsize=(16, 6), sharey=True)\n",
        "fig.suptitle(\"Anscombe's Quartet\")\n",
        "\n",
        "# Adding figure for Ans-1\n",
        "axs[0].plot(x1, y1, '.')\n",
        "axs[0].plot(x1, b1 + m1 * x1, '-')\n",
        "axs[0].set_xlabel('x')\n",
        "axs[0].set_ylabel('y')\n",
        "\n",
        "# Adding figure for Ans-2\n",
        "axs[1].plot(x2, y2, '.')\n",
        "axs[1].plot(x2, b2 + m2 * x2, '-')\n",
        "axs[0].set_xlabel('x')\n",
        "axs[0].set_ylabel('y')"
      ]
    },
    {
      "cell_type": "code",
      "execution_count": null,
      "metadata": {
        "id": "QiXhjeZZtbh4"
      },
      "outputs": [],
      "source": []
    }
  ],
  "metadata": {
    "kernelspec": {
      "display_name": "Python 3 (ipykernel)",
      "language": "python",
      "name": "python3"
    },
    "language_info": {
      "codemirror_mode": {
        "name": "ipython",
        "version": 3
      },
      "file_extension": ".py",
      "mimetype": "text/x-python",
      "name": "python",
      "nbconvert_exporter": "python",
      "pygments_lexer": "ipython3",
      "version": "3.11.1"
    },
    "toc": {
      "base_numbering": 1,
      "nav_menu": {},
      "number_sections": true,
      "sideBar": true,
      "skip_h1_title": false,
      "title_cell": "Table of Contents",
      "title_sidebar": "Contents",
      "toc_cell": false,
      "toc_position": {},
      "toc_section_display": true,
      "toc_window_display": true
    },
    "varInspector": {
      "cols": {
        "lenName": 16,
        "lenType": 16,
        "lenVar": 40
      },
      "kernels_config": {
        "python": {
          "delete_cmd_postfix": "",
          "delete_cmd_prefix": "del ",
          "library": "var_list.py",
          "varRefreshCmd": "print(var_dic_list())"
        },
        "r": {
          "delete_cmd_postfix": ") ",
          "delete_cmd_prefix": "rm(",
          "library": "var_list.r",
          "varRefreshCmd": "cat(var_dic_list()) "
        }
      },
      "types_to_exclude": [
        "module",
        "function",
        "builtin_function_or_method",
        "instance",
        "_Feature"
      ],
      "window_display": false
    },
    "colab": {
      "provenance": []
    }
  },
  "nbformat": 4,
  "nbformat_minor": 0
}